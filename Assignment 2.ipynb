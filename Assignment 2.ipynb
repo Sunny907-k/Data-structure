{
  "nbformat": 4,
  "nbformat_minor": 0,
  "metadata": {
    "colab": {
      "provenance": []
    },
    "kernelspec": {
      "name": "python3",
      "display_name": "Python 3"
    },
    "language_info": {
      "name": "python"
    }
  },
  "cells": [
    {
      "cell_type": "markdown",
      "source": [
        "1) What are data structures, and why are they important?\n",
        "\n",
        "Ans – Data structure is a way of organizing and storing data so that it can be accessed and manipulate efficiently.\n",
        "String, List, Tuple, Set, Dictionary and Array are data structures.\n"
      ],
      "metadata": {
        "id": "N_I96wjB7jEC"
      }
    },
    {
      "cell_type": "markdown",
      "source": [
        "2) Explain the difference between mutable and immutable data types with examples.\n",
        "\n",
        "Ans – Mutable data types is a data type whose value can be change after the creation. Examples of Mutable data types are List, Dictionary and Set.\n",
        "Immutable data types is a data type whose value can’t be change after the creation. Examples of Immutable data types are String and Tuple."
      ],
      "metadata": {
        "id": "MdKsRA5FHFFk"
      }
    },
    {
      "cell_type": "markdown",
      "source": [
        "3)What are the main differences between lists and tuples in Python?\n",
        "\n",
        "Ans – Lists are mutable in nature and syntax is [ ] however, tuples are immutable and syntax is ().\n"
      ],
      "metadata": {
        "id": "DXuqqh9iHTTd"
      }
    },
    {
      "cell_type": "markdown",
      "source": [
        "4) Describe how dictionaries store data?\n",
        "\n",
        "Ans – This data type store the data having key and value. Each key have their value. For example – dict = {“name”: “Sunny”, “Age”: 24}\n"
      ],
      "metadata": {
        "id": "E-w1fjIpHWNj"
      }
    },
    {
      "cell_type": "markdown",
      "source": [
        "5) Why might you use a set instead of a list in Python?\n",
        "\n",
        "Ans – We will use set instead of a list if we don’t want to store duplicate values. Sets automatically store only unique elements.\n"
      ],
      "metadata": {
        "id": "Fl6g0lT2HbOI"
      }
    },
    {
      "cell_type": "markdown",
      "source": [
        "6) What is a string in Python, and how is it different from a list?\n",
        "\n",
        "Ans - A string is a sequence of characters used to represent text. It is different from list because list can contain all type of data under () however, string represent only text under ‘ ‘ or “ “.\n"
      ],
      "metadata": {
        "id": "AURMFZ4dHdg4"
      }
    },
    {
      "cell_type": "markdown",
      "source": [
        "7) How do tuples ensure data integrity in Python?\n",
        "\n",
        "Ans – Tuples are immutable in nature and once the data is created, it can’t be changed.\n"
      ],
      "metadata": {
        "id": "kyxJ4RetHi--"
      }
    },
    {
      "cell_type": "markdown",
      "source": [
        "8) What is a hash table, and how does it relate to dictionaries in Python?\n",
        "\n",
        "Ans - A hash table is a data structure that stores key-value pairs using a hash function to compute an index for quick data access. In Python, dictionaries are implemented using hash tables, allowing fast lookup, insertion, and deletion of items by keys.\n"
      ],
      "metadata": {
        "id": "yXwvUaIfHlye"
      }
    },
    {
      "cell_type": "markdown",
      "source": [
        "9) Can lists contain different data types in Python?\n",
        "\n",
        "Ans – Yes, lists can contain different data types.\n"
      ],
      "metadata": {
        "id": "ZP8oL8TDHpTr"
      }
    },
    {
      "cell_type": "markdown",
      "source": [
        "10) Explain why strings are immutable in Python?\n",
        "\\\n",
        "Ans – In python, strings are immutable because once a string is created in memory, it content cannot be changed.\n"
      ],
      "metadata": {
        "id": "B1umpLtTHxi7"
      }
    },
    {
      "cell_type": "markdown",
      "source": [
        "11) What advantages do dictionaries offer over lists for certain tasks?\n",
        "\n",
        "Ans – Dictionaries are better than lists when we need: fast lookups by key, clear key-value mapping for readability, no index tracking – access data directly by name.\n"
      ],
      "metadata": {
        "id": "Q-6Oy-A2H0Xd"
      }
    },
    {
      "cell_type": "markdown",
      "source": [
        "12)Describe a scenario where using a tuple would be preferable over a list?\n",
        "\n",
        "Ans – As we know tuple are immutable and list are mutable. So, we always tuple when we don’t have change the data in future. For example, if we have to store a person identity details, we have to use tuple as this is a data which can’t be change however, if we will use list, anyone can make the changes.\n"
      ],
      "metadata": {
        "id": "XQlOEO-SH4iL"
      }
    },
    {
      "cell_type": "markdown",
      "source": [
        "13)How do sets handle duplicate values in Python?\n",
        "\n",
        "Ans – Sets automatically remove duplicate values and only store unique elements.\n"
      ],
      "metadata": {
        "id": "WEiwvO3TH-kB"
      }
    },
    {
      "cell_type": "markdown",
      "source": [
        "14)How does the “in” keyword work differently for lists and dictionaries?\n",
        "\n",
        "Ans – List – “in” checks if a value exists among the list’s elements. Dictionaries – “in” checks if a key exists, not a value.\n"
      ],
      "metadata": {
        "id": "SNYhMPR0H_tj"
      }
    },
    {
      "cell_type": "markdown",
      "source": [
        "15) Can you modify the elements of a tuple? Explain why or why not?\n",
        "\n",
        "Ans – No, we cannot modify tuple elements because tuples are immutable.\n"
      ],
      "metadata": {
        "id": "vQ-6hV7MIA6i"
      }
    },
    {
      "cell_type": "markdown",
      "source": [
        "16) What is a nested dictionary, and give an example of its use case?\n",
        "\n",
        "Ans - A nested dictionary is a dictionary where the values themselves are dictionaries. It allows you to organize complex data hierarchically.\n",
        "students = {\"Alice\": {\"age\": 20, \"grades\": {\"math\": 90, \"science\": 85}}, \"Bob\": {\"age\": 22, \"grades\": {\"math\": 75, \"science\": 80}}}\n",
        "Here, students is a nested dictionary with student names as keys and their info as nested dictionaries.\n"
      ],
      "metadata": {
        "id": "bp-Nr2MnICeV"
      }
    },
    {
      "cell_type": "markdown",
      "source": [
        "17)Describe the time complexity of accessing elements in a dictionary?\\\n",
        "\n",
        "Ans - Accessing elements in a dictionary has an average time complexity of O(1) (constant time) because dictionaries use a hash table for lookups. However, in the worst case (e.g., many hash collisions), it can degrade to O(n).\n"
      ],
      "metadata": {
        "id": "i3va6gjUIJoc"
      }
    },
    {
      "cell_type": "markdown",
      "source": [
        "18) In what situations are lists preferred over dictionaries?\n",
        "\n",
        "Ans - Lists are preferred over dictionaries when we need ordered, index-based access to homogeneous data or simple sequences.\n"
      ],
      "metadata": {
        "id": "hD6DeITDILVi"
      }
    },
    {
      "cell_type": "markdown",
      "source": [
        "19) Why are dictionaries considered unordered, and how does that affect data retrieval?\n",
        "\n",
        "Ans - Dictionaries are considered unordered because they store items by key-hash rather than position, so data retrieval is fast by key but does not maintain any order.\n"
      ],
      "metadata": {
        "id": "F0mxYA6lIMip"
      }
    },
    {
      "cell_type": "markdown",
      "source": [
        "20) Explain the difference between a list and a dictionary in terms of data retrieval.\n",
        "\n",
        "Ans - Lists retrieve data by index, while dictionaries retrieve data by key but without order\n"
      ],
      "metadata": {
        "id": "-hIY_dX5INhA"
      }
    },
    {
      "cell_type": "markdown",
      "source": [
        "# Practical Questions"
      ],
      "metadata": {
        "id": "xlbhGq8EG-pt"
      }
    },
    {
      "cell_type": "code",
      "source": [
        "# 1. Write a code to create a string with your name and print it.\n",
        "\n",
        "name = \"Sunny\"\n",
        "print(name)"
      ],
      "metadata": {
        "colab": {
          "base_uri": "https://localhost:8080/"
        },
        "id": "K76Cgxiv7wYm",
        "outputId": "79971f84-9457-415c-a602-7a043f9d8752"
      },
      "execution_count": 1,
      "outputs": [
        {
          "output_type": "stream",
          "name": "stdout",
          "text": [
            "Sunny\n"
          ]
        }
      ]
    },
    {
      "cell_type": "code",
      "source": [
        "# 2. Write a code to find the length of the string \"Hello World\".\n",
        "\n",
        "string = \"Hello World\"\n",
        "print(len(string))"
      ],
      "metadata": {
        "colab": {
          "base_uri": "https://localhost:8080/"
        },
        "id": "giWH8PTl9Yr2",
        "outputId": "f2606ae6-675e-47f6-9a31-544f834c65ac"
      },
      "execution_count": 2,
      "outputs": [
        {
          "output_type": "stream",
          "name": "stdout",
          "text": [
            "11\n"
          ]
        }
      ]
    },
    {
      "cell_type": "code",
      "source": [
        "# 3. Write a code to slice the first 3 characters from the string \"Python Programming\".\n",
        "\n",
        "s = \"Python Programming\"\n",
        "print(s[:3])"
      ],
      "metadata": {
        "colab": {
          "base_uri": "https://localhost:8080/"
        },
        "id": "mbxHiK1p9h8n",
        "outputId": "403561a8-0cf3-445a-a3fe-51ec55a70d24"
      },
      "execution_count": 3,
      "outputs": [
        {
          "output_type": "stream",
          "name": "stdout",
          "text": [
            "Pyt\n"
          ]
        }
      ]
    },
    {
      "cell_type": "code",
      "source": [
        "# 4. Write a code to convert the string \"hello\" to uppercase.\n",
        "\n",
        "s = \"hello\"\n",
        "print(s.upper())"
      ],
      "metadata": {
        "colab": {
          "base_uri": "https://localhost:8080/"
        },
        "id": "_Q90KBHj94kH",
        "outputId": "c3bfdbc8-ff9a-466c-ccac-584e75899cd0"
      },
      "execution_count": 4,
      "outputs": [
        {
          "output_type": "stream",
          "name": "stdout",
          "text": [
            "HELLO\n"
          ]
        }
      ]
    },
    {
      "cell_type": "code",
      "source": [
        "# 5. Write a code to replace the word \"apple\" with \"orange\" in the string \"I like apple\".\n",
        "\n",
        "s = \"I like apple\"\n",
        "print(s.replace(\"apple\",\"orange\"))"
      ],
      "metadata": {
        "colab": {
          "base_uri": "https://localhost:8080/"
        },
        "id": "UY1vxGlZ-Dij",
        "outputId": "5c44bb10-6869-4943-efb1-52541d82cc16"
      },
      "execution_count": 7,
      "outputs": [
        {
          "output_type": "stream",
          "name": "stdout",
          "text": [
            "I like orange\n"
          ]
        }
      ]
    },
    {
      "cell_type": "code",
      "source": [
        "# 6. Write a code to create a list with numbers 1 to 5 and print it.\n",
        "\n",
        "list = [1, 2, 3, 4, 5]\n",
        "print(list)"
      ],
      "metadata": {
        "colab": {
          "base_uri": "https://localhost:8080/"
        },
        "id": "6eUSxj-9-Y6R",
        "outputId": "998e9b7e-df79-4df8-ff52-ecc1879a4ee7"
      },
      "execution_count": 8,
      "outputs": [
        {
          "output_type": "stream",
          "name": "stdout",
          "text": [
            "[1, 2, 3, 4, 5]\n"
          ]
        }
      ]
    },
    {
      "cell_type": "code",
      "source": [
        "# 7. Write a code to append the number 10 to the list [1, 2, 3, 4].\n",
        "\n",
        "list = [1, 2, 3, 4]\n",
        "list.append(10)\n",
        "print(list)"
      ],
      "metadata": {
        "colab": {
          "base_uri": "https://localhost:8080/"
        },
        "id": "xncUz7cA-rqA",
        "outputId": "a7b6c728-01eb-4bc3-fee4-075f9c3fd1ca"
      },
      "execution_count": 10,
      "outputs": [
        {
          "output_type": "stream",
          "name": "stdout",
          "text": [
            "[1, 2, 3, 4, 10]\n"
          ]
        }
      ]
    },
    {
      "cell_type": "code",
      "source": [
        "# 8. Write a code to remove the number 3 from the list [1, 2, 3, 4, 5].\n",
        "\n",
        "l = [1, 2, 3, 4, 5]\n",
        "l.remove(3)\n",
        "print(l)"
      ],
      "metadata": {
        "colab": {
          "base_uri": "https://localhost:8080/"
        },
        "id": "tdcZXCa1_MKv",
        "outputId": "bb6205e9-4aaa-4d81-d512-ce36c19fdddf"
      },
      "execution_count": 11,
      "outputs": [
        {
          "output_type": "stream",
          "name": "stdout",
          "text": [
            "[1, 2, 4, 5]\n"
          ]
        }
      ]
    },
    {
      "cell_type": "code",
      "source": [
        "# 9. Write a code to access the second element in the list ['a', 'b', 'c', 'd'].\n",
        "\n",
        "l = ['a', 'b', 'c', 'd']\n",
        "print(l[1])"
      ],
      "metadata": {
        "colab": {
          "base_uri": "https://localhost:8080/"
        },
        "id": "679JNpEN_aq9",
        "outputId": "7b46d7c7-6560-46a2-de2a-2043349a5b60"
      },
      "execution_count": 12,
      "outputs": [
        {
          "output_type": "stream",
          "name": "stdout",
          "text": [
            "b\n"
          ]
        }
      ]
    },
    {
      "cell_type": "code",
      "source": [
        "# 10. Write a code to reverse the list [10, 20, 30, 40, 50].\n",
        "\n",
        "l = [10, 20, 30, 40, 50]\n",
        "print(l[::-1])"
      ],
      "metadata": {
        "colab": {
          "base_uri": "https://localhost:8080/"
        },
        "id": "OULsUxGg_r_z",
        "outputId": "b6aac902-5811-4371-dd74-df11ab782053"
      },
      "execution_count": 13,
      "outputs": [
        {
          "output_type": "stream",
          "name": "stdout",
          "text": [
            "[50, 40, 30, 20, 10]\n"
          ]
        }
      ]
    },
    {
      "cell_type": "code",
      "source": [
        "# 11. Write a code to create a tuple with the elements 100, 200, 300 and print it.\n",
        "\n",
        "t = (100, 200, 300)\n",
        "print(t)"
      ],
      "metadata": {
        "colab": {
          "base_uri": "https://localhost:8080/"
        },
        "id": "CcJiq5_p_1Yc",
        "outputId": "302db9f5-4309-455c-9ec3-5ef8c12e55cc"
      },
      "execution_count": 14,
      "outputs": [
        {
          "output_type": "stream",
          "name": "stdout",
          "text": [
            "(100, 200, 300)\n"
          ]
        }
      ]
    },
    {
      "cell_type": "code",
      "source": [
        "# 12. Write a code to access the second-to-last element of the tuple ('red', 'green', 'blue', 'yellow').\n",
        "\n",
        "t = ('red', 'green', 'blue', 'yellow')\n",
        "print(t[-2])"
      ],
      "metadata": {
        "colab": {
          "base_uri": "https://localhost:8080/"
        },
        "id": "7lrtP9otAPlY",
        "outputId": "6ea0ca7d-2914-4f07-fbf3-760527745f65"
      },
      "execution_count": 15,
      "outputs": [
        {
          "output_type": "stream",
          "name": "stdout",
          "text": [
            "blue\n"
          ]
        }
      ]
    },
    {
      "cell_type": "code",
      "source": [
        "# 13. Write a code to find the minimum number in the tuple (10, 20, 5, 15).\n",
        "\n",
        "t = (10, 20, 5, 15)\n",
        "min_number = min(t)\n",
        "print(min_number)"
      ],
      "metadata": {
        "colab": {
          "base_uri": "https://localhost:8080/"
        },
        "id": "NFl_noZtAcUy",
        "outputId": "d7ad384a-0be5-428b-d0f6-1477bbc1629c"
      },
      "execution_count": 16,
      "outputs": [
        {
          "output_type": "stream",
          "name": "stdout",
          "text": [
            "5\n"
          ]
        }
      ]
    },
    {
      "cell_type": "code",
      "source": [
        "# 14. Write a code to find the index of the element \"cat\" in the tuple ('dog', 'cat', 'rabbit').\n",
        "\n",
        "t = ('dog', 'cat', 'rabbit')\n",
        "print(t.index(\"cat\"))"
      ],
      "metadata": {
        "colab": {
          "base_uri": "https://localhost:8080/"
        },
        "id": "lzmoM8xjA0LF",
        "outputId": "5bab6e27-e6a0-4840-be11-a11a7727db2e"
      },
      "execution_count": 19,
      "outputs": [
        {
          "output_type": "stream",
          "name": "stdout",
          "text": [
            "1\n"
          ]
        }
      ]
    },
    {
      "cell_type": "code",
      "source": [
        "# 15. Write a code to create a tuple containing three different fruits and check if \"kiwi\" is in it.\n",
        "\n",
        "fruit = (\"apple\", \"orange\", \"kiwi\")\n",
        "if \"kiwi\" in fruit:\n",
        "  print(\"kiwi is in tuple\")\n",
        "else:\n",
        "  print(\"kiwi is not in tuple\")"
      ],
      "metadata": {
        "colab": {
          "base_uri": "https://localhost:8080/"
        },
        "id": "s-sJJ3itBErM",
        "outputId": "f13aa0fd-8b27-4780-e27a-c5dbbea7b3bd"
      },
      "execution_count": 22,
      "outputs": [
        {
          "output_type": "stream",
          "name": "stdout",
          "text": [
            "kiwi is in tuple\n"
          ]
        }
      ]
    },
    {
      "cell_type": "code",
      "source": [
        "# 16. Write a code to create a set with the elements 'a', 'b', 'c' and print it.\n",
        "\n",
        "set = {'a', 'b', 'c'}\n",
        "print(set)"
      ],
      "metadata": {
        "colab": {
          "base_uri": "https://localhost:8080/"
        },
        "id": "5pQlCRjoBtae",
        "outputId": "30863012-9a12-4752-b34a-c849d5b3a587"
      },
      "execution_count": 25,
      "outputs": [
        {
          "output_type": "stream",
          "name": "stdout",
          "text": [
            "{'b', 'a', 'c'}\n"
          ]
        }
      ]
    },
    {
      "cell_type": "code",
      "source": [
        "# 17. Write a code to clear all elements from the set {1, 2, 3, 4, 5}.\n",
        "\n",
        "set = {1, 2, 3, 4, 5}\n",
        "set.clear()\n",
        "print(set)"
      ],
      "metadata": {
        "colab": {
          "base_uri": "https://localhost:8080/"
        },
        "id": "EGhBgj4OCFF7",
        "outputId": "332e64e5-7ebc-4600-83bd-599cfa1c39f7"
      },
      "execution_count": 28,
      "outputs": [
        {
          "output_type": "stream",
          "name": "stdout",
          "text": [
            "set()\n"
          ]
        }
      ]
    },
    {
      "cell_type": "code",
      "source": [
        "# 18. Write a code to remove the element 4 from the set {1, 2, 3, 4}.\n",
        "\n",
        "set = {1, 2, 3, 4}\n",
        "set.remove(4)\n",
        "print(set)"
      ],
      "metadata": {
        "colab": {
          "base_uri": "https://localhost:8080/"
        },
        "id": "-hUTcJR57kUz",
        "outputId": "ef8465be-d5e1-4158-c16b-9315653e5e88"
      },
      "execution_count": 2,
      "outputs": [
        {
          "output_type": "stream",
          "name": "stdout",
          "text": [
            "{1, 2, 3}\n"
          ]
        }
      ]
    },
    {
      "cell_type": "code",
      "source": [
        "# 19. Write a code to find the union of two sets {1, 2, 3} and {3, 4, 5}.\n",
        "\n",
        "set1 = {1, 2, 3}\n",
        "set2 = {3, 4, 5}\n",
        "print(set1.union(set2))"
      ],
      "metadata": {
        "colab": {
          "base_uri": "https://localhost:8080/"
        },
        "id": "NOGmjuL977cG",
        "outputId": "b7efde08-c00b-4339-dbd5-ec996323f6fd"
      },
      "execution_count": 4,
      "outputs": [
        {
          "output_type": "stream",
          "name": "stdout",
          "text": [
            "{1, 2, 3, 4, 5}\n"
          ]
        }
      ]
    },
    {
      "cell_type": "code",
      "source": [
        "# 20. Write a code to find the intersection of two sets {1, 2, 3} and {2, 3, 4}.\n",
        "\n",
        "s1 = {1, 2, 3}\n",
        "s2 = {2, 3, 4}\n",
        "print(s1.intersection(s2))"
      ],
      "metadata": {
        "colab": {
          "base_uri": "https://localhost:8080/"
        },
        "id": "nAtrnrrl8lQb",
        "outputId": "e828b463-a1e0-4328-9511-7c32e5acaae7"
      },
      "execution_count": 5,
      "outputs": [
        {
          "output_type": "stream",
          "name": "stdout",
          "text": [
            "{2, 3}\n"
          ]
        }
      ]
    },
    {
      "cell_type": "code",
      "source": [
        "# 21. Write a code to create a dictionary with the keys \"name\", \"age\", and \"city\", and print it.\n",
        "\n",
        "dict = {\"name\": \"Sunny\", \"age\": 24, \"city\": \"Bangalore\"}\n",
        "print(dict)"
      ],
      "metadata": {
        "colab": {
          "base_uri": "https://localhost:8080/"
        },
        "id": "ZYGbcUAC8zfa",
        "outputId": "e207ccd9-6803-41fa-d21d-e542b2f4d895"
      },
      "execution_count": 6,
      "outputs": [
        {
          "output_type": "stream",
          "name": "stdout",
          "text": [
            "{'name': 'Sunny', 'age': 24, 'city': 'Bangalore'}\n"
          ]
        }
      ]
    },
    {
      "cell_type": "code",
      "source": [
        "# 22. Write a code to add a new key-value pair \"country\": \"USA\" to the dictionary {'name': 'John', 'age': 25}.\n",
        "\n",
        "dict = {'name': 'John', 'age': 25}\n",
        "dict[\"address\"] = \"USA\"\n",
        "print(dict)"
      ],
      "metadata": {
        "colab": {
          "base_uri": "https://localhost:8080/"
        },
        "id": "pdmCVIba9EOY",
        "outputId": "800af6a8-5569-4380-d05a-d3af9d251b5e"
      },
      "execution_count": 8,
      "outputs": [
        {
          "output_type": "stream",
          "name": "stdout",
          "text": [
            "{'name': 'John', 'age': 25, 'address': 'USA'}\n"
          ]
        }
      ]
    },
    {
      "cell_type": "code",
      "source": [
        "#23. Write a code to access the value associated with the key \"name\" in the dictionary {'name': 'Alice', 'age': 30}.\n",
        "\n",
        "dict = {'name': 'Alice', 'age': 30}\n",
        "print(dict['name'])"
      ],
      "metadata": {
        "colab": {
          "base_uri": "https://localhost:8080/"
        },
        "id": "eIIcFvp49pZN",
        "outputId": "62e26fd8-7e6a-43f4-e997-47aeded1ed04"
      },
      "execution_count": 17,
      "outputs": [
        {
          "output_type": "stream",
          "name": "stdout",
          "text": [
            "Alice\n"
          ]
        }
      ]
    },
    {
      "cell_type": "code",
      "source": [
        "# 24. Write a code to remove the key \"age\" from the dictionary {'name': 'Bob', 'age': 22, 'city': 'New York'}\n",
        "\n",
        "d = {'name': 'Bob', 'age': 22, 'city': 'New York'}\n",
        "d.pop('age')\n",
        "print(d)\n",
        "\n",
        "#or\n",
        "\n",
        "d = {'name': 'Bob', 'age': 22, 'city': 'New York'}\n",
        "del d['age']\n",
        "print(d)\n"
      ],
      "metadata": {
        "colab": {
          "base_uri": "https://localhost:8080/"
        },
        "id": "EiwgzjfH-c1Q",
        "outputId": "d1c131fe-d18c-4217-f93c-abb316b0f386"
      },
      "execution_count": 23,
      "outputs": [
        {
          "output_type": "stream",
          "name": "stdout",
          "text": [
            "{'name': 'Bob', 'city': 'New York'}\n",
            "{'name': 'Bob', 'city': 'New York'}\n"
          ]
        }
      ]
    },
    {
      "cell_type": "code",
      "source": [
        "# 25. Write a code to check if the key \"city\" exists in the dictionary {'name': 'Alice', 'city': 'Paris'}\n",
        "\n",
        "d = {'name': 'Alice', 'city': 'Paris'}\n",
        "\n",
        "if 'city' in d:\n",
        "  print(\"Key 'city' exists in dictionary\")\n",
        "else:\n",
        "  print(\"doesnot exist\")\n"
      ],
      "metadata": {
        "colab": {
          "base_uri": "https://localhost:8080/"
        },
        "id": "w79lQ6_B_cZV",
        "outputId": "40daa051-5ca3-4d4c-fb02-76f3cf2abd9e"
      },
      "execution_count": 26,
      "outputs": [
        {
          "output_type": "stream",
          "name": "stdout",
          "text": [
            "Key 'city' exists in dictionary\n"
          ]
        }
      ]
    },
    {
      "cell_type": "code",
      "source": [
        "# 26. Write a code to create a list, a tuple, and a dictionary, and print them all.\n",
        "\n",
        "my_list = [1, 2, 5.4, \"Sunny\"]\n",
        "my_tuple = (1, 2, 4, \"Sunny\")\n",
        "my_dict = {\"name\": \"Sunny\", \"age\": \"23\", \"city\": \"Bangalore\"}\n",
        "\n",
        "print(\"List: \", my_list)\n",
        "print(\"Tuple: \", my_tuple)\n",
        "print(\"Dictionary: \", my_dict)\n"
      ],
      "metadata": {
        "colab": {
          "base_uri": "https://localhost:8080/"
        },
        "id": "_e9QvnSeATlg",
        "outputId": "c20b3415-cf90-45b8-d88e-bd5a9c7f044c"
      },
      "execution_count": 27,
      "outputs": [
        {
          "output_type": "stream",
          "name": "stdout",
          "text": [
            "List:  [1, 2, 5.4, 'Sunny']\n",
            "Tuple:  (1, 2, 4, 'Sunny')\n",
            "Dictionary:  {'name': 'Sunny', 'age': '23', 'city': 'Bangalore'}\n"
          ]
        }
      ]
    },
    {
      "cell_type": "code",
      "source": [
        "# 27. Write a code to create a list of 5 random numbers between 1 and 100, sort it in ascending order, and print the result.(replaced).\n",
        "\n",
        "num = []\n",
        "for i in range(0, 101):\n",
        "  num.append(i)\n",
        "print(num)"
      ],
      "metadata": {
        "colab": {
          "base_uri": "https://localhost:8080/"
        },
        "id": "l18ZZqRpBDiQ",
        "outputId": "d9a8c50d-d4b9-4f79-aef0-3c41da0879da"
      },
      "execution_count": 39,
      "outputs": [
        {
          "output_type": "stream",
          "name": "stdout",
          "text": [
            "[0, 1, 2, 3, 4, 5, 6, 7, 8, 9, 10, 11, 12, 13, 14, 15, 16, 17, 18, 19, 20, 21, 22, 23, 24, 25, 26, 27, 28, 29, 30, 31, 32, 33, 34, 35, 36, 37, 38, 39, 40, 41, 42, 43, 44, 45, 46, 47, 48, 49, 50, 51, 52, 53, 54, 55, 56, 57, 58, 59, 60, 61, 62, 63, 64, 65, 66, 67, 68, 69, 70, 71, 72, 73, 74, 75, 76, 77, 78, 79, 80, 81, 82, 83, 84, 85, 86, 87, 88, 89, 90, 91, 92, 93, 94, 95, 96, 97, 98, 99, 100]\n"
          ]
        }
      ]
    },
    {
      "cell_type": "code",
      "source": [
        "#28. Write a code to create a list with strings and print the element at the third index.\n",
        "\n",
        "list = (\"Sunny\", \"Vijay\", \"Bangalore\", \"PWskills\", \"Data\")\n",
        "print(list[3])"
      ],
      "metadata": {
        "colab": {
          "base_uri": "https://localhost:8080/"
        },
        "id": "zImTDZFkDlMl",
        "outputId": "62a2e24c-6fc9-4615-d516-519a907b8b36"
      },
      "execution_count": 42,
      "outputs": [
        {
          "output_type": "stream",
          "name": "stdout",
          "text": [
            "PWskills\n"
          ]
        }
      ]
    },
    {
      "cell_type": "code",
      "source": [
        "# 29. Write a code to combine two dictionaries into one and print the result.\n",
        "\n",
        "d1 = {\"name\": \"Sunny\", \"age\": 24, \"city\": \"Bangalore\"}\n",
        "d2 = {\"course\": \"Data analytics\", \"collge\": \"pwskills\"}\n",
        "\n",
        "combined_d = d1 | d2\n",
        "print(combined_d)"
      ],
      "metadata": {
        "colab": {
          "base_uri": "https://localhost:8080/"
        },
        "id": "OD6T7HO7EZX8",
        "outputId": "d88420f5-d770-4af4-9a5c-b4ad7320fe88"
      },
      "execution_count": 44,
      "outputs": [
        {
          "output_type": "stream",
          "name": "stdout",
          "text": [
            "{'name': 'Sunny', 'age': 24, 'city': 'Bangalore', 'course': 'Data analytics', 'collge': 'pwskills'}\n"
          ]
        }
      ]
    },
    {
      "cell_type": "code",
      "source": [
        "# 30. Write a code to convert a list of strings into a set.\n",
        "\n",
        "fruits = (\"mango\", \"banana\", \"apples\", \"mango\", \"orange\", \"banana\")\n",
        "fruits_s = set(fruits)\n",
        "print(fruits_s)"
      ],
      "metadata": {
        "id": "qaIpphusG1ks"
      },
      "execution_count": null,
      "outputs": []
    }
  ]
}